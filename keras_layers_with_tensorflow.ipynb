{
 "cells": [
  {
   "cell_type": "markdown",
   "metadata": {},
   "source": [
    "# `Keras` layers and `TensorFlow` tensors\n",
    "\n",
    "The `Keras` library provides abstractions for building neural networks in Python. It can leverage different deep learning libraries as the backend, effectively providing a standardized interface in top of them in the form of an API.\n",
    "\n",
    "In this tutorial, the use of `Keras` layers along with `TensorFlow` tensors is demonstrated. In order to be able to use `Keras` you have to install it first (`pip install keras` or applying the `keras` environment to the SherlockML server that runs this notebook).\n",
    "\n",
    "Tutorial taken from: https://blog.keras.io/keras-as-a-simplified-interface-to-tensorflow-tutorial.html"
   ]
  },
  {
   "cell_type": "code",
   "execution_count": 6,
   "metadata": {
    "scrolled": true
   },
   "outputs": [],
   "source": [
    "import tensorflow as tf\n",
    "from keras import backend as K\n",
    "from keras.layers import Dense\n",
    "from keras.objectives import categorical_crossentropy\n",
    "from tensorflow.examples.tutorials.mnist import input_data\n",
    "from keras.metrics import categorical_accuracy as accuracy\n",
    "\n",
    "import numpy as np"
   ]
  },
  {
   "cell_type": "markdown",
   "metadata": {},
   "source": [
    "## Define a session"
   ]
  },
  {
   "cell_type": "code",
   "execution_count": 7,
   "metadata": {},
   "outputs": [],
   "source": [
    "sess = tf.Session()\n",
    "K.set_session(sess)"
   ]
  },
  {
   "cell_type": "markdown",
   "metadata": {},
   "source": [
    "## Define the structure of the graph (neural network)"
   ]
  },
  {
   "cell_type": "markdown",
   "metadata": {},
   "source": [
    "The `placeholder` objects from `TensorFlow` are meant to be the prototypes of (input) layers of neural network. In this case we are specifying that each datapoint is an array of `float32` numbers with shape (,784)."
   ]
  },
  {
   "cell_type": "code",
   "execution_count": 8,
   "metadata": {},
   "outputs": [],
   "source": [
    "img = tf.placeholder(tf.float32, shape=(None, 784))"
   ]
  },
  {
   "cell_type": "markdown",
   "metadata": {},
   "source": [
    "Creating the structure of the neural network using `Dense` layers from `Keras`. Despite these not being `TensorFlow` objects, they can be used with the `TensorFlow` syntax. In this case the structure is:\n",
    "$$\n",
    "(\\text{img}) \\longrightarrow \\text{Dense} \\longrightarrow \\text{Dense} \\longrightarrow \\text{Dense},\n",
    "$$\n",
    "with `img` representing the input datapoint. Disregarding the nonlinear activation functions (`relu` and `softmax`), the matrix structure of the neural network is:\n",
    "$$\n",
    "\\biggl[10\\times128\\biggr]\\biggl[128\\times128\\biggr]\\biggl[128\\times784\\biggr]\\biggl(784\\biggr) = \\biggl(10\\biggr),\n",
    "$$\n",
    "where we have denoted $n$-component (column) vectors with $\\biggl(n\\biggr)$ and $m\\times n$ matrices as $\\biggl[n\\times m\\biggr]$."
   ]
  },
  {
   "cell_type": "code",
   "execution_count": 9,
   "metadata": {},
   "outputs": [],
   "source": [
    "x = Dense(128, activation='relu')(img)\n",
    "x = Dense(128, activation='relu')(x)\n",
    "preds = Dense(10, activation='softmax')(x)"
   ]
  },
  {
   "cell_type": "markdown",
   "metadata": {},
   "source": [
    "Another `placeholder` object corresponds to the output (a one-hot encoding of the ten digits 0-9)."
   ]
  },
  {
   "cell_type": "code",
   "execution_count": 10,
   "metadata": {},
   "outputs": [],
   "source": [
    "labels = tf.placeholder(tf.float32, shape=(None, 10))"
   ]
  },
  {
   "cell_type": "markdown",
   "metadata": {},
   "source": [
    "## Define the loss function"
   ]
  },
  {
   "cell_type": "markdown",
   "metadata": {},
   "source": [
    "`Keras` has specific objects corresponding to different possible loss functions to use. In this case we use the categorical cross entropy."
   ]
  },
  {
   "cell_type": "code",
   "execution_count": 11,
   "metadata": {},
   "outputs": [],
   "source": [
    "loss = tf.reduce_mean(categorical_crossentropy(labels, preds))"
   ]
  },
  {
   "cell_type": "markdown",
   "metadata": {},
   "source": [
    "## Load dataset"
   ]
  },
  {
   "cell_type": "markdown",
   "metadata": {},
   "source": [
    "Load the MNIST dataset (available within `TensorFlow`)."
   ]
  },
  {
   "cell_type": "code",
   "execution_count": 12,
   "metadata": {},
   "outputs": [
    {
     "name": "stdout",
     "output_type": "stream",
     "text": [
      "WARNING:tensorflow:From <ipython-input-12-26d0bb062f17>:1: read_data_sets (from tensorflow.contrib.learn.python.learn.datasets.mnist) is deprecated and will be removed in a future version.\n",
      "Instructions for updating:\n",
      "Please use alternatives such as official/mnist/dataset.py from tensorflow/models.\n",
      "WARNING:tensorflow:From /opt/anaconda/envs/Python3/lib/python3.6/site-packages/tensorflow/contrib/learn/python/learn/datasets/mnist.py:260: maybe_download (from tensorflow.contrib.learn.python.learn.datasets.base) is deprecated and will be removed in a future version.\n",
      "Instructions for updating:\n",
      "Please write your own downloading logic.\n",
      "WARNING:tensorflow:From /opt/anaconda/envs/Python3/lib/python3.6/site-packages/tensorflow/contrib/learn/python/learn/datasets/mnist.py:262: extract_images (from tensorflow.contrib.learn.python.learn.datasets.mnist) is deprecated and will be removed in a future version.\n",
      "Instructions for updating:\n",
      "Please use tf.data to implement this functionality.\n",
      "Extracting MNIST_data/train-images-idx3-ubyte.gz\n",
      "WARNING:tensorflow:From /opt/anaconda/envs/Python3/lib/python3.6/site-packages/tensorflow/contrib/learn/python/learn/datasets/mnist.py:267: extract_labels (from tensorflow.contrib.learn.python.learn.datasets.mnist) is deprecated and will be removed in a future version.\n",
      "Instructions for updating:\n",
      "Please use tf.data to implement this functionality.\n",
      "Extracting MNIST_data/train-labels-idx1-ubyte.gz\n",
      "WARNING:tensorflow:From /opt/anaconda/envs/Python3/lib/python3.6/site-packages/tensorflow/contrib/learn/python/learn/datasets/mnist.py:110: dense_to_one_hot (from tensorflow.contrib.learn.python.learn.datasets.mnist) is deprecated and will be removed in a future version.\n",
      "Instructions for updating:\n",
      "Please use tf.one_hot on tensors.\n",
      "Extracting MNIST_data/t10k-images-idx3-ubyte.gz\n",
      "Extracting MNIST_data/t10k-labels-idx1-ubyte.gz\n",
      "WARNING:tensorflow:From /opt/anaconda/envs/Python3/lib/python3.6/site-packages/tensorflow/contrib/learn/python/learn/datasets/mnist.py:290: DataSet.__init__ (from tensorflow.contrib.learn.python.learn.datasets.mnist) is deprecated and will be removed in a future version.\n",
      "Instructions for updating:\n",
      "Please use alternatives such as official/mnist/dataset.py from tensorflow/models.\n"
     ]
    }
   ],
   "source": [
    "mnist_data = input_data.read_data_sets('MNIST_data', one_hot=True)"
   ]
  },
  {
   "cell_type": "markdown",
   "metadata": {},
   "source": [
    "## Define a training step"
   ]
  },
  {
   "cell_type": "markdown",
   "metadata": {},
   "source": [
    "TensorFlow provides `operation` objects corresponding to abstractions of operations. In graph language operations (or \"ops\") correspond to the nodes of the graph. In this case we define a training step, corresponding to optimizing the weights of the neural network using gradient descent to minimize the previously defined loss function.\n",
    "\n",
    "The general structure is:\n",
    "- `tensor`s correspond to edges in the graph. They have no values by themselves, but can be evaluated.\n",
    "- `operation`s correspond to nodes in the graphs and describe calculations that consume and produce tensors.\n",
    "- `session`s run TensorFlow operations and encapsulate the state of the TensorFlow runtime.\n",
    "\n",
    "For more information on operations, tensors and sessions see: https://www.tensorflow.org/programmers_guide/low_level_intro\n",
    "\n",
    "There is no need to explicitly define __stochastic__ gradient descent, as this is achieved just by passing only a subset (*batch*) of the whole dataset to a regular gradient descent."
   ]
  },
  {
   "cell_type": "code",
   "execution_count": 13,
   "metadata": {},
   "outputs": [],
   "source": [
    "train_step = tf.train.GradientDescentOptimizer(0.5).minimize(loss)"
   ]
  },
  {
   "cell_type": "markdown",
   "metadata": {},
   "source": [
    "## Initialize global variables"
   ]
  },
  {
   "cell_type": "markdown",
   "metadata": {},
   "source": [
    "TensorFlow variables need to be initialized if we are using the low-level API (on the other hand high level abstractions like Keras automatically initialize the variables).\n",
    "\n",
    "The `global_variables_initializer` function returns an operation (to be run by a `session`) that initializes all the global variables in the `tf.GraphKeys.GLOBAL_VARIABLES` variables collection in one go. Operations are objects that can be passed to the `run()` method of a `session` to be executed.\n",
    "\n",
    "For more information see: https://www.tensorflow.org/programmers_guide/variables"
   ]
  },
  {
   "cell_type": "code",
   "execution_count": 14,
   "metadata": {},
   "outputs": [],
   "source": [
    "init_op = tf.global_variables_initializer()"
   ]
  },
  {
   "cell_type": "code",
   "execution_count": 16,
   "metadata": {},
   "outputs": [],
   "source": [
    "sess.run(init_op)"
   ]
  },
  {
   "cell_type": "markdown",
   "metadata": {},
   "source": [
    "## Training"
   ]
  },
  {
   "cell_type": "markdown",
   "metadata": {},
   "source": [
    "The dataset is already conveniently devided into batches of which we can specify the size. We loop over all the batches, performing a training step (gradient descent) at each iteration. The syntax below uses the `session` as a context variable: this is just a convenient way to use an operation's `run()` method. In fact, all operations are executed by the session.\n",
    "\n",
    "Although we used `Keras` layers, all the operations are performed by `TensorFlow` objects, so the training phase doesn't give the nice visual feedback we get when using `Keras`..."
   ]
  },
  {
   "cell_type": "code",
   "execution_count": 18,
   "metadata": {},
   "outputs": [],
   "source": [
    "with sess.as_default():\n",
    "    for i in range(100):\n",
    "        batch = mnist_data.train.next_batch(50)\n",
    "        train_step.run(\n",
    "            feed_dict={\n",
    "                img: batch[0],\n",
    "                labels: batch[1]\n",
    "            }\n",
    "        )"
   ]
  },
  {
   "cell_type": "markdown",
   "metadata": {},
   "source": [
    "## Testing"
   ]
  },
  {
   "cell_type": "markdown",
   "metadata": {},
   "source": [
    "Keras provides categorical accuracy (a generalization of the accuracy metric to the multi-class case) as a possible metric for testing. \n",
    "\n",
    "When passed TensorFlow tensors corresponding to the labels and the predictions (`labels` is the placeholder for the one-hot encoded digits, `pred` is the output layer of the graph), the categorical accuracy becomes a tensor itself, which can be evaluated with using its `eval()` method.\n",
    "\n",
    "In TensorFlow, sessions execute operations and evaluate tensors. This can be done using the `session.run()` method, passing the needed arguments in a Python dictionary `feed_dict`. Alternatively, the syntax can consist in calling an operation's `run()` method, passing a session as the `session` keyword argument or having a session as a context variable. \n",
    "\n",
    "------\n",
    "The equivalent for tensors is the `eval()` method, again with a session passed as a keyword argument or open as a context variable.\n",
    "\n",
    "------\n",
    "In the test phase, we evaluate the categorical accuracy passing the 10000 test images as datapoints (`preds` will give a prediction for each) and their labels as the true labels w.r.t. which to compute the accuracy metric.\n",
    "\n",
    "The output of the evaluation is a `NumPy` with a number of components equal to the number of test datapoints. Each component contains either 1 (correct prediction) or 0 (wrong prediction)."
   ]
  },
  {
   "cell_type": "code",
   "execution_count": 19,
   "metadata": {},
   "outputs": [],
   "source": [
    "acc_value = accuracy(labels, preds)\n",
    "\n",
    "with sess.as_default():\n",
    "    acc = acc_value.eval(\n",
    "        feed_dict={\n",
    "            img: mnist_data.test.images,\n",
    "            labels: mnist_data.test.labels\n",
    "        }\n",
    "    )"
   ]
  },
  {
   "cell_type": "code",
   "execution_count": 29,
   "metadata": {
    "scrolled": true
   },
   "outputs": [
    {
     "data": {
      "text/plain": [
       "(array([0., 1.], dtype=float32), array([1230, 8770]))"
      ]
     },
     "execution_count": 29,
     "metadata": {},
     "output_type": "execute_result"
    }
   ],
   "source": [
    "np.unique(acc, return_counts=True)"
   ]
  },
  {
   "cell_type": "code",
   "execution_count": 38,
   "metadata": {
    "scrolled": true
   },
   "outputs": [
    {
     "name": "stdout",
     "output_type": "stream",
     "text": [
      "Categorical accuracy: 87.7%\n"
     ]
    }
   ],
   "source": [
    "print(\"Categorical accuracy: {}%\".format(100*(acc.sum()/len(acc))))"
   ]
  },
  {
   "cell_type": "markdown",
   "metadata": {},
   "source": [
    "## Getting the prediction for a single datapoint"
   ]
  },
  {
   "cell_type": "markdown",
   "metadata": {},
   "source": [
    "We can get the prediction for a single datapoint from the neural network by evaluating the `preds` tensor and passing one image from the dataset as the input.\n",
    "\n",
    "A tensor is a somewhoat immaterial construct: tensors always need a `session` to be evaluated. When using the `eval()` method of a tensor, a session must always be specified: this is just a shortcut to avoid typing `session.run()`. A session can be passed in the keyword argument to `eval()` or can be specified as a Python context variable."
   ]
  },
  {
   "cell_type": "code",
   "execution_count": 47,
   "metadata": {},
   "outputs": [],
   "source": [
    "with sess.as_default():\n",
    "    one_pred = preds.eval(\n",
    "        feed_dict={\n",
    "            img: mnist_data.train.images[0].reshape((1,784))\n",
    "        }\n",
    "    )"
   ]
  },
  {
   "cell_type": "code",
   "execution_count": 45,
   "metadata": {},
   "outputs": [],
   "source": [
    "one_pred = preds.eval(\n",
    "    feed_dict={\n",
    "        img: mnist_data.train.images[0].reshape((1,784))\n",
    "    },\n",
    "    session=sess\n",
    ")"
   ]
  },
  {
   "cell_type": "code",
   "execution_count": 48,
   "metadata": {
    "scrolled": true
   },
   "outputs": [
    {
     "data": {
      "text/plain": [
       "array([1.4359926e-04, 2.4800893e-04, 1.4608016e-02, 9.6925080e-01,\n",
       "       2.2509850e-04, 9.1988500e-03, 4.8962509e-05, 5.9966330e-04,\n",
       "       4.4850730e-03, 1.1919742e-03], dtype=float32)"
      ]
     },
     "execution_count": 48,
     "metadata": {},
     "output_type": "execute_result"
    }
   ],
   "source": [
    "one_pred[0]"
   ]
  },
  {
   "cell_type": "code",
   "execution_count": 109,
   "metadata": {},
   "outputs": [
    {
     "name": "stdout",
     "output_type": "stream",
     "text": [
      "Predicted digit: 8\n",
      "Probability: 0.4182551\n"
     ]
    }
   ],
   "source": [
    "print(\"Predicted digit: \"+str(np.argmax(one_pred[0])))\n",
    "print(\"Probability: \"+str(one_pred[0][np.argmax(one_pred[0])]))"
   ]
  }
 ],
 "metadata": {
  "kernelspec": {
   "display_name": "Python [conda env:Python3]",
   "language": "python",
   "name": "conda-env-Python3-py"
  },
  "language_info": {
   "codemirror_mode": {
    "name": "ipython",
    "version": 3
   },
   "file_extension": ".py",
   "mimetype": "text/x-python",
   "name": "python",
   "nbconvert_exporter": "python",
   "pygments_lexer": "ipython3",
   "version": "3.6.4"
  }
 },
 "nbformat": 4,
 "nbformat_minor": 2
}
